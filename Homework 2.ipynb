{
 "cells": [
  {
   "cell_type": "markdown",
   "id": "25337d73",
   "metadata": {},
   "source": [
    "### Question 1: Fit a Linear Regression (20)\n",
    "\n",
    "Complete each sub-questions with either codes or written answers. Make sure to print your result if necessary. We are going to use the data from Homework 1, the diabetes data. "
   ]
  },
  {
   "cell_type": "code",
   "execution_count": 1,
   "id": "4687c4fb",
   "metadata": {},
   "outputs": [
    {
     "name": "stdout",
     "output_type": "stream",
     "text": [
      ".. _diabetes_dataset:\n",
      "\n",
      "Diabetes dataset\n",
      "----------------\n",
      "\n",
      "Ten baseline variables, age, sex, body mass index, average blood\n",
      "pressure, and six blood serum measurements were obtained for each of n =\n",
      "442 diabetes patients, as well as the response of interest, a\n",
      "quantitative measure of disease progression one year after baseline.\n",
      "\n",
      "**Data Set Characteristics:**\n",
      "\n",
      "  :Number of Instances: 442\n",
      "\n",
      "  :Number of Attributes: First 10 columns are numeric predictive values\n",
      "\n",
      "  :Target: Column 11 is a quantitative measure of disease progression one year after baseline\n",
      "\n",
      "  :Attribute Information:\n",
      "      - age     age in years\n",
      "      - sex\n",
      "      - bmi     body mass index\n",
      "      - bp      average blood pressure\n",
      "      - s1      tc, total serum cholesterol\n",
      "      - s2      ldl, low-density lipoproteins\n",
      "      - s3      hdl, high-density lipoproteins\n",
      "      - s4      tch, total cholesterol / HDL\n",
      "      - s5      ltg, possibly log of serum triglycerides level\n",
      "      - s6      glu, blood sugar level\n",
      "\n",
      "Note: Each of these 10 feature variables have been mean centered and scaled by the standard deviation times `n_samples` (i.e. the sum of squares of each column totals 1).\n",
      "\n",
      "Source URL:\n",
      "https://www4.stat.ncsu.edu/~boos/var.select/diabetes.html\n",
      "\n",
      "For more information see:\n",
      "Bradley Efron, Trevor Hastie, Iain Johnstone and Robert Tibshirani (2004) \"Least Angle Regression,\" Annals of Statistics (with discussion), 407-499.\n",
      "(https://web.stanford.edu/~hastie/Papers/LARS/LeastAngle_2002.pdf)\n"
     ]
    }
   ],
   "source": [
    "from sklearn.datasets import load_diabetes\n",
    "data = load_diabetes()\n",
    "X, y = data.data, data.target\n",
    "print(data.DESCR)"
   ]
  },
  {
   "cell_type": "markdown",
   "id": "fe98b30b",
   "metadata": {},
   "source": [
    "##### 1a. Plot a scatter plot between the target value and BMI. Show the estimated linear regression line and describe what you have seen.  "
   ]
  },
  {
   "cell_type": "code",
   "execution_count": null,
   "id": "cde15636",
   "metadata": {},
   "outputs": [],
   "source": []
  },
  {
   "cell_type": "markdown",
   "id": "9149a98b",
   "metadata": {},
   "source": [
    "##### 1b. Plot a scatter plot between the target value and one other feature in the data. Show the estimated linear regression line and describe what you have seen. "
   ]
  },
  {
   "cell_type": "code",
   "execution_count": null,
   "id": "5be2f11b",
   "metadata": {},
   "outputs": [],
   "source": []
  },
  {
   "cell_type": "markdown",
   "id": "e8f7d048",
   "metadata": {},
   "source": [
    "##### 1c. Fit a linear model between the target value and BMI. Print the intercept and slope. Describe how BMI affects the target value. "
   ]
  },
  {
   "cell_type": "code",
   "execution_count": null,
   "id": "46529e07",
   "metadata": {},
   "outputs": [],
   "source": []
  },
  {
   "cell_type": "markdown",
   "id": "d416f431",
   "metadata": {},
   "source": [
    "##### 1d. Fir a linear model between the target value and all features. Print the coefficients for all features. "
   ]
  },
  {
   "cell_type": "code",
   "execution_count": null,
   "id": "7de0df9a",
   "metadata": {},
   "outputs": [],
   "source": []
  },
  {
   "cell_type": "markdown",
   "id": "557f23f1",
   "metadata": {},
   "source": [
    "##### 1e. Do you think linear model is a good model to use in this case? (Think about whether linear regression assumptions are satisfied. )"
   ]
  },
  {
   "cell_type": "markdown",
   "id": "b5605c48",
   "metadata": {},
   "source": []
  },
  {
   "cell_type": "markdown",
   "id": "340da22a",
   "metadata": {},
   "source": [
    "### Question 2: Gradient Descent in Linear Regression (30)\n",
    "\n",
    "Write Python code to implement the gradient descent method in linear regression. You can use the functions as a start (or you can start from scratch). Verify your code with sample data and LinearRegression in sklearn. "
   ]
  },
  {
   "cell_type": "code",
   "execution_count": null,
   "id": "394022d7",
   "metadata": {},
   "outputs": [],
   "source": [
    "# Generate a sample data with target y and feature X, feel free to change\n",
    "x = np.random.normal(loc=5, scale=3, size=100)\n",
    "y = 2 * x + np.random.normal(loc=0, scale=1, size=100)\n",
    "X = np.column_stack((np.ones(100), x))"
   ]
  },
  {
   "cell_type": "code",
   "execution_count": null,
   "id": "6617e3fd",
   "metadata": {},
   "outputs": [],
   "source": [
    "# Implement the gradient descent functions. Import any module if you need. \n",
    "import numpy as np\n",
    "\n",
    "def compute_cost(predictions, y):\n",
    "    \n",
    "    return cost\n",
    "\n",
    "def gradient_descent(X_b, y, theta, learning_rate, num_iterations):\n",
    "   \n",
    "    return theta, cost_history"
   ]
  },
  {
   "cell_type": "code",
   "execution_count": null,
   "id": "62ff3bd7",
   "metadata": {},
   "outputs": [],
   "source": [
    "# Run your code with the sample X and y. Then compare with the result with LinearRegression in sklearn. "
   ]
  },
  {
   "cell_type": "markdown",
   "id": "2e8519d7",
   "metadata": {},
   "source": [
    "### Question 3 MLE for Poisson Regression (30)\n",
    "\n",
    "In the lecture we have showed you how to achieve the MLE for the linear regression. Now let's try to replicate it with another regression: Poisson regression. We will discuss it more later so don't worry if you have never heard about it. \n",
    "\n",
    "Poisson regression only has one parameter $\\lambda$, which is also the mean of the distribution (like the $\\mu$ in the linear regression). The pdf is \n",
    "$$f(X_i|\\lambda) = \\frac{\\lambda^{X_i} e^{-\\lambda}}{X_i!}$$\n",
    "while $X_i!$ is the factorial of $X_i$. \n",
    "\n",
    "Now try to esimate the MLE for the $\\lambda$ in Poisson regression. Latex is preferred but written and submitted by picture is also accpetable. (Hint: review the lecture note and follow the steps: write the likelihood, calculate the log-likelihood, take the derivative and solve the equation when the derivative is equal to 0. The answer is a simple one and there is no factorial included.)"
   ]
  },
  {
   "cell_type": "markdown",
   "id": "68fed07f",
   "metadata": {},
   "source": []
  },
  {
   "cell_type": "markdown",
   "id": "d07f1ec4",
   "metadata": {},
   "source": [
    "### Question 4 Another MLE practice (20)\n",
    "\n",
    "Let's make a random pdf, when $0 \\leq X_i \\leq \\theta$, we have:\n",
    "\n",
    "$$f(X_i|\\theta ) = 2 * \\frac{(\\theta - X_i)}{\\theta^2} $$\n",
    "\n",
    "For all the other value, let $f(X_i|\\theta) = 0$. \n",
    "\n",
    "1. First, prove it is a valid pdf. Hint: a valid pdf means all the values are positive and the interval of pdf should be equal to 1. \n",
    "2. Calculate the MLE estimator. Stop after taking the deriative since the equation doesn't have a simple closed-form solution"
   ]
  },
  {
   "cell_type": "markdown",
   "id": "53c3d1c1",
   "metadata": {},
   "source": []
  }
 ],
 "metadata": {
  "kernelspec": {
   "display_name": "Python 3 (ipykernel)",
   "language": "python",
   "name": "python3"
  },
  "language_info": {
   "codemirror_mode": {
    "name": "ipython",
    "version": 3
   },
   "file_extension": ".py",
   "mimetype": "text/x-python",
   "name": "python",
   "nbconvert_exporter": "python",
   "pygments_lexer": "ipython3",
   "version": "3.9.13"
  }
 },
 "nbformat": 4,
 "nbformat_minor": 5
}
