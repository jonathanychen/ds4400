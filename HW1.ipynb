{
 "cells": [
  {
   "cell_type": "markdown",
   "id": "a91b9a44-22b9-4192-80f2-ac08020c98f1",
   "metadata": {},
   "source": [
    "### Question 1"
   ]
  },
  {
   "cell_type": "markdown",
   "id": "f0fff39e",
   "metadata": {},
   "source": [
    "Created conda env and ran ```conda install scikit-learn```"
   ]
  },
  {
   "cell_type": "markdown",
   "id": "931997f1-9199-4b80-abba-1f3035faa954",
   "metadata": {},
   "source": [
    "### Question 2"
   ]
  },
  {
   "cell_type": "code",
   "execution_count": 2,
   "id": "0de1e78c-06d0-47a8-a9e3-fbf6e66aad86",
   "metadata": {},
   "outputs": [
    {
     "name": "stdout",
     "output_type": "stream",
     "text": [
      ".. _diabetes_dataset:\n",
      "\n",
      "Diabetes dataset\n",
      "----------------\n",
      "\n",
      "Ten baseline variables, age, sex, body mass index, average blood\n",
      "pressure, and six blood serum measurements were obtained for each of n =\n",
      "442 diabetes patients, as well as the response of interest, a\n",
      "quantitative measure of disease progression one year after baseline.\n",
      "\n",
      "**Data Set Characteristics:**\n",
      "\n",
      "  :Number of Instances: 442\n",
      "\n",
      "  :Number of Attributes: First 10 columns are numeric predictive values\n",
      "\n",
      "  :Target: Column 11 is a quantitative measure of disease progression one year after baseline\n",
      "\n",
      "  :Attribute Information:\n",
      "      - age     age in years\n",
      "      - sex\n",
      "      - bmi     body mass index\n",
      "      - bp      average blood pressure\n",
      "      - s1      tc, total serum cholesterol\n",
      "      - s2      ldl, low-density lipoproteins\n",
      "      - s3      hdl, high-density lipoproteins\n",
      "      - s4      tch, total cholesterol / HDL\n",
      "      - s5      ltg, possibly log of serum triglycerides level\n",
      "      - s6      glu, blood sugar level\n",
      "\n",
      "Note: Each of these 10 feature variables have been mean centered and scaled by the standard deviation times the square root of `n_samples` (i.e. the sum of squares of each column totals 1).\n",
      "\n",
      "Source URL:\n",
      "https://www4.stat.ncsu.edu/~boos/var.select/diabetes.html\n",
      "\n",
      "For more information see:\n",
      "Bradley Efron, Trevor Hastie, Iain Johnstone and Robert Tibshirani (2004) \"Least Angle Regression,\" Annals of Statistics (with discussion), 407-499.\n",
      "(https://web.stanford.edu/~hastie/Papers/LARS/LeastAngle_2002.pdf)\n",
      "\n"
     ]
    }
   ],
   "source": [
    "from sklearn.datasets import load_diabetes\n",
    "data = load_diabetes()\n",
    "X, y = data.data, data.target\n",
    "print(data.DESCR)"
   ]
  },
  {
   "cell_type": "markdown",
   "id": "17069625",
   "metadata": {},
   "source": [
    "The dataset is about diabetes patients and their attributes, relating to how much the disease progresses one year after measurement. There are 442 data points in total, and the target feature is the quantitative measurement of disease progression. Some plots that could be included in the EDA are scatter plots between each of the numerical attributes and the target measurement, as well as a boxplot for sex vs. target. For pre-processing, we would need to consider missing data and decide whether to remove or impute it, find the outliers and decide whether to ignore them, and scale the many numerical attributes to work with each other."
   ]
  },
  {
   "cell_type": "markdown",
   "id": "56e9ab93",
   "metadata": {},
   "source": [
    "### Question 3\n",
    "\n",
    "$$A = \\begin{bmatrix}\n",
    "    1 & 2\\\\\n",
    "    3 & 4\\\\\n",
    "    5 & 6\\\\\n",
    "    7 & 8\n",
    "\\end{bmatrix}, \n",
    "B = \\begin{bmatrix}\n",
    "    1 & 2 & 3 & 4\\\\\n",
    "    5 & 6 & 7 & 8\n",
    "\\end{bmatrix}$$\n",
    "\n",
    "$A + B$ cannot be calculated because the dimensions do not match.\n",
    "\n",
    "But, $A^T + B$ can be, because $A^T$ is a 2-by-4 matrix. \n",
    "\n",
    "$$ A^T + B = \\begin{bmatrix}\n",
    "    1 & 3 & 5 & 7\\\\\n",
    "    2 & 4 & 6 & 8\n",
    "\\end{bmatrix} + \\begin{bmatrix}\n",
    "    1 & 2 & 3 & 4\\\\\n",
    "    5 & 6 & 7 & 8\n",
    "\\end{bmatrix} = \\begin{bmatrix}\n",
    "    2 & 5 & 8 & 11\\\\\n",
    "    7 & 10 & 13 & 16\n",
    "\\end{bmatrix} $$\n",
    "\n",
    "$$ AB = \\begin{bmatrix}\n",
    "    1 & 2\\\\\n",
    "    3 & 4\\\\\n",
    "    5 & 6\\\\\n",
    "    7 & 8\n",
    "\\end{bmatrix} \\begin{bmatrix}\n",
    "    1 & 2 & 3 & 4\\\\\n",
    "    5 & 6 & 7 & 8\n",
    "\\end{bmatrix} = \\begin{bmatrix}\n",
    "    11 & 14 & 17 & 20\\\\\n",
    "    23 & 30 & 37 & 44\\\\\n",
    "    35 & 46 & 57 & 68\\\\\n",
    "    47 & 62 & 77 & 92\n",
    "\\end{bmatrix} $$\n",
    "\n",
    "$$ BA = \\begin{bmatrix}\n",
    "    1 & 2 & 3 & 4\\\\\n",
    "    5 & 6 & 7 & 8\n",
    "\\end{bmatrix} \\begin{bmatrix}\n",
    "    1 & 2\\\\\n",
    "    3 & 4\\\\\n",
    "    5 & 6\\\\\n",
    "    7 & 8\n",
    "\\end{bmatrix} = \\begin{bmatrix}\n",
    "    50 & 60\\\\\n",
    "    114 & 140\n",
    "\\end{bmatrix} $$\n",
    "\n",
    "We cannot calculate $A^{-1}$ because $A$ is a 4-by-2 matrix and you can only find the inverse of square matrices. We also cannot calculate $(AB)^{-1}$ because the determinant of $AB$ = 0. "
   ]
  },
  {
   "cell_type": "markdown",
   "id": "771f9dd0",
   "metadata": {},
   "source": [
    "### Question 4\n",
    "\n",
    "#### Part a:\n",
    "\n",
    "Probability that two successive nucleotides are G-C: \n",
    "\n",
    "$$ P(2GC) = P(GC) * P(GC) = 0.6 * 0.6 = 0.36 $$\n",
    "\n",
    "#### Part b:\n",
    "\n",
    "Probability that two successive nucleotides are A-T: \n",
    "\n",
    "$$ P(2AT) = P(AT) * P(AT) = 0.4 * 0.4 = 0.16 $$\n",
    "\n",
    "#### Part c\n",
    "\n",
    "Probability that two successive nucleotides are different: \n",
    "\n",
    "$$ P(2\\text{diff}) = P(GC) * P(AT) + P(AT) * P(GC) = 0.6 * 0.4 + 0.4 * 0.6 = 2 * 0.6 * 0.4 = 0.48 $$"
   ]
  },
  {
   "cell_type": "markdown",
   "id": "bdcb9064",
   "metadata": {},
   "source": [
    "### Question 5\n",
    "\n",
    "#### Part a: \n",
    "\n",
    "Let B be the event that the cat has one blue eye, let BB be the event that the cat has two blue eyes and let N be the event that the cat does not have blue eyes. Let D be the event that the cat is deaf.\n",
    "\n",
    "$$ P(D) = P(D \\cap N) + P(D \\cap B) + P(D \\cap BB) $$\n",
    "$$ P(D) = P(D | N)P(N) + P(D | B)P(B) + P(D | BB)P(BB) $$\n",
    "$$ P(D) = (0.19)(0.6) + (0.4)(0.3) + (0.73)(0.1) $$\n",
    "$$ P(D) = 0.114 + 0.12 + 0.073 $$\n",
    "$$ P(D) = 0.307 $$\n",
    "\n",
    "#### Part b:\n",
    "\n",
    "$$ P(BB | D) = \\frac{P(BB \\cap D)}{P(D)}  $$\n",
    "$$ P(BB | D) = \\frac{0.073}{0.307} = 0.2378 $$\n",
    "\n",
    "$$ P(N | D) = \\frac{P(N \\cap D)}{P(D)} $$\n",
    "$$ P(N | D) = \\frac{0.114}{0.307} = 0.3713 $$"
   ]
  }
 ],
 "metadata": {
  "kernelspec": {
   "display_name": "jupyter",
   "language": "python",
   "name": "jupyter"
  },
  "language_info": {
   "codemirror_mode": {
    "name": "ipython",
    "version": 3
   },
   "file_extension": ".py",
   "mimetype": "text/x-python",
   "name": "python",
   "nbconvert_exporter": "python",
   "pygments_lexer": "ipython3",
   "version": "3.11.5"
  }
 },
 "nbformat": 4,
 "nbformat_minor": 5
}
